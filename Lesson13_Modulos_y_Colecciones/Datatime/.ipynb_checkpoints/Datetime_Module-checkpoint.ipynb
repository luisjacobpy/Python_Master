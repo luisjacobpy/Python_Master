{
 "cells": [
  {
   "cell_type": "code",
   "execution_count": 5,
   "id": "bec47507",
   "metadata": {},
   "outputs": [],
   "source": [
    "import datetime"
   ]
  },
  {
   "cell_type": "code",
   "execution_count": 6,
   "id": "6b8e91de",
   "metadata": {},
   "outputs": [],
   "source": [
    "# Crear una variable\n",
    "dt = datetime.datetime.now() # obtenemos la hora y la fecha actual"
   ]
  },
  {
   "cell_type": "code",
   "execution_count": 8,
   "id": "177bc41d",
   "metadata": {},
   "outputs": [
    {
     "data": {
      "text/plain": [
       "datetime.datetime(2023, 6, 22, 22, 15, 38, 768525)"
      ]
     },
     "execution_count": 8,
     "metadata": {},
     "output_type": "execute_result"
    }
   ],
   "source": [
    "dt\n"
   ]
  },
  {
   "cell_type": "code",
   "execution_count": 9,
   "id": "641c85ce",
   "metadata": {},
   "outputs": [
    {
     "data": {
      "text/plain": [
       "2023"
      ]
     },
     "execution_count": 9,
     "metadata": {},
     "output_type": "execute_result"
    }
   ],
   "source": [
    "dt.year\n"
   ]
  },
  {
   "cell_type": "code",
   "execution_count": 10,
   "id": "3dbf06d1",
   "metadata": {},
   "outputs": [
    {
     "data": {
      "text/plain": [
       "6"
      ]
     },
     "execution_count": 10,
     "metadata": {},
     "output_type": "execute_result"
    }
   ],
   "source": [
    "dt.month"
   ]
  },
  {
   "cell_type": "code",
   "execution_count": 11,
   "id": "42358dbe",
   "metadata": {},
   "outputs": [
    {
     "data": {
      "text/plain": [
       "22"
      ]
     },
     "execution_count": 11,
     "metadata": {},
     "output_type": "execute_result"
    }
   ],
   "source": [
    "dt.day"
   ]
  },
  {
   "cell_type": "code",
   "execution_count": 12,
   "id": "0fb3971d",
   "metadata": {},
   "outputs": [
    {
     "data": {
      "text/plain": [
       "22"
      ]
     },
     "execution_count": 12,
     "metadata": {},
     "output_type": "execute_result"
    }
   ],
   "source": [
    "dt.hour"
   ]
  },
  {
   "cell_type": "code",
   "execution_count": 13,
   "id": "1c79042a",
   "metadata": {},
   "outputs": [
    {
     "data": {
      "text/plain": [
       "15"
      ]
     },
     "execution_count": 13,
     "metadata": {},
     "output_type": "execute_result"
    }
   ],
   "source": [
    "dt.minute"
   ]
  },
  {
   "cell_type": "code",
   "execution_count": 14,
   "id": "da92a537",
   "metadata": {},
   "outputs": [
    {
     "data": {
      "text/plain": [
       "38"
      ]
     },
     "execution_count": 14,
     "metadata": {},
     "output_type": "execute_result"
    }
   ],
   "source": [
    "dt.second"
   ]
  },
  {
   "cell_type": "code",
   "execution_count": 15,
   "id": "42fe45f8",
   "metadata": {},
   "outputs": [
    {
     "data": {
      "text/plain": [
       "768525"
      ]
     },
     "execution_count": 15,
     "metadata": {},
     "output_type": "execute_result"
    }
   ],
   "source": [
    "dt.microsecond # Microsegundos"
   ]
  },
  {
   "cell_type": "code",
   "execution_count": 18,
   "id": "0a907476",
   "metadata": {},
   "outputs": [],
   "source": [
    "dt.tzinfo"
   ]
  },
  {
   "cell_type": "code",
   "execution_count": 20,
   "id": "f3d85478",
   "metadata": {},
   "outputs": [
    {
     "name": "stdout",
     "output_type": "stream",
     "text": [
      "22,15,38\n"
     ]
    }
   ],
   "source": [
    "print(f\"{dt.hour},{dt.minute},{dt.second}\") # Hora, minutos, segundos"
   ]
  },
  {
   "cell_type": "code",
   "execution_count": 22,
   "id": "1284275a",
   "metadata": {},
   "outputs": [
    {
     "name": "stdout",
     "output_type": "stream",
     "text": [
      "22/6/2023\n"
     ]
    }
   ],
   "source": [
    "print(f\"{dt.day}/{dt.month}/{dt.year}\")# Dia, mes, anio"
   ]
  },
  {
   "cell_type": "code",
   "execution_count": 24,
   "id": "3fa74d9d",
   "metadata": {},
   "outputs": [],
   "source": [
    "\"\"\"Crear una fecha manualmente\n",
    "Creamos una fehca manualmente introduciendo los valores\n",
    "\"\"\"\n",
    "dt2 = datetime.datetime(2000, 1, 1, 0, 0)"
   ]
  },
  {
   "cell_type": "code",
   "execution_count": 25,
   "id": "49f9cbd5",
   "metadata": {},
   "outputs": [
    {
     "data": {
      "text/plain": [
       "datetime.datetime(2000, 1, 1, 0, 0)"
      ]
     },
     "execution_count": 25,
     "metadata": {},
     "output_type": "execute_result"
    }
   ],
   "source": [
    "dt2"
   ]
  },
  {
   "cell_type": "code",
   "execution_count": 28,
   "id": "d4a5b2f4",
   "metadata": {},
   "outputs": [],
   "source": [
    "# Para reemplazar el anio\n",
    "dt2 = dt2.replace(year=3000)"
   ]
  },
  {
   "cell_type": "code",
   "execution_count": 29,
   "id": "161366c5",
   "metadata": {},
   "outputs": [
    {
     "data": {
      "text/plain": [
       "datetime.datetime(3000, 1, 1, 0, 0)"
      ]
     },
     "execution_count": 29,
     "metadata": {},
     "output_type": "execute_result"
    }
   ],
   "source": [
    "dt2"
   ]
  },
  {
   "cell_type": "code",
   "execution_count": 30,
   "id": "023e4ff3",
   "metadata": {},
   "outputs": [
    {
     "data": {
      "text/plain": [
       "'2023-06-22T22:29:17.034932'"
      ]
     },
     "execution_count": 30,
     "metadata": {},
     "output_type": "execute_result"
    }
   ],
   "source": [
    "\"\"\"Formateos\n",
    "isoformat\n",
    "iso es la organización internacional de la normalización, nos permite mostrar u formato por defecto.\n",
    "\n",
    "\"\"\"\n",
    "dt3 = datetime.datetime.now()\n",
    "dt3.isoformat()\n"
   ]
  },
  {
   "cell_type": "code",
   "execution_count": null,
   "id": "d641c2bb",
   "metadata": {},
   "outputs": [],
   "source": [
    "# Para formattear a nuestra propia forma la fecha y hora\n",
    "dt3.strftime()"
   ]
  }
 ],
 "metadata": {
  "kernelspec": {
   "display_name": "Python 3 (ipykernel)",
   "language": "python",
   "name": "python3"
  },
  "language_info": {
   "codemirror_mode": {
    "name": "ipython",
    "version": 3
   },
   "file_extension": ".py",
   "mimetype": "text/x-python",
   "name": "python",
   "nbconvert_exporter": "python",
   "pygments_lexer": "ipython3",
   "version": "3.10.6"
  }
 },
 "nbformat": 4,
 "nbformat_minor": 5
}
