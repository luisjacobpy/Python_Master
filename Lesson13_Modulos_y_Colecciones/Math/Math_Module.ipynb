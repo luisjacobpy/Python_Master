{
 "cells": [
  {
   "cell_type": "code",
   "execution_count": 1,
   "id": "33364aeb",
   "metadata": {},
   "outputs": [],
   "source": [
    "\"\"\"Math module,\n",
    "Integra una serie de funciones, metodos para trabajar con matematicas.\n",
    "\"\"\"\n",
    "import math\n"
   ]
  },
  {
   "cell_type": "code",
   "execution_count": 2,
   "id": "68c9bb72",
   "metadata": {},
   "outputs": [],
   "source": [
    "pi = 3.14159"
   ]
  },
  {
   "cell_type": "code",
   "execution_count": 3,
   "id": "3043855b",
   "metadata": {},
   "outputs": [
    {
     "data": {
      "text/plain": [
       "3"
      ]
     },
     "execution_count": 3,
     "metadata": {},
     "output_type": "execute_result"
    }
   ],
   "source": [
    "# Redondear pi, si el numero es menor que 5 redondea a la baja.\n",
    "round(pi)"
   ]
  },
  {
   "cell_type": "code",
   "execution_count": null,
   "id": "1bd7c406",
   "metadata": {},
   "outputs": [],
   "source": [
    "# Gracias al modulo math, podemos forzar redondeos a la alta o a la baja."
   ]
  }
 ],
 "metadata": {
  "kernelspec": {
   "display_name": "Python 3 (ipykernel)",
   "language": "python",
   "name": "python3"
  },
  "language_info": {
   "codemirror_mode": {
    "name": "ipython",
    "version": 3
   },
   "file_extension": ".py",
   "mimetype": "text/x-python",
   "name": "python",
   "nbconvert_exporter": "python",
   "pygments_lexer": "ipython3",
   "version": "3.10.6"
  }
 },
 "nbformat": 4,
 "nbformat_minor": 5
}
