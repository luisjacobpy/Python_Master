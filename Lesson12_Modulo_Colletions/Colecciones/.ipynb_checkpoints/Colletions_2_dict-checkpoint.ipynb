{
 "cells": [
  {
   "cell_type": "code",
   "execution_count": 1,
   "id": "8990f1a0",
   "metadata": {},
   "outputs": [
    {
     "data": {
      "text/plain": [
       "' Diccionarios\\nContar con un diccionario que nunca de error pese a que no contiene una determinada clave\\n'"
      ]
     },
     "execution_count": 1,
     "metadata": {},
     "output_type": "execute_result"
    }
   ],
   "source": [
    "\"\"\" Diccionarios\n",
    "Contar con un diccionario que nunca de error pese a que no contiene una determinada clave\n",
    "\"\"\""
   ]
  },
  {
   "cell_type": "code",
   "execution_count": 7,
   "id": "46258b5a",
   "metadata": {},
   "outputs": [],
   "source": [
    "# Importar modulos\n",
    "from collections import defaultdict"
   ]
  },
  {
   "cell_type": "code",
   "execution_count": 8,
   "id": "47c2cc0b",
   "metadata": {},
   "outputs": [],
   "source": [
    "# Indicar un tipo por defecto\n",
    "d = defaultdict(float)"
   ]
  },
  {
   "cell_type": "code",
   "execution_count": 11,
   "id": "224179d3",
   "metadata": {},
   "outputs": [
    {
     "data": {
      "text/plain": [
       "0.0"
      ]
     },
     "execution_count": 11,
     "metadata": {},
     "output_type": "execute_result"
    }
   ],
   "source": [
    "d['algo'] # Nos devuelve un valor por default"
   ]
  },
  {
   "cell_type": "code",
   "execution_count": 12,
   "id": "96327963",
   "metadata": {},
   "outputs": [
    {
     "data": {
      "text/plain": [
       "defaultdict(float, {'algo': 0.0})"
      ]
     },
     "execution_count": 12,
     "metadata": {},
     "output_type": "execute_result"
    }
   ],
   "source": [
    "# Si revisamos el diccionario ya contiene el valor por defecto.\n",
    "d"
   ]
  },
  {
   "cell_type": "code",
   "execution_count": 17,
   "id": "e65ed77f",
   "metadata": {},
   "outputs": [],
   "source": [
    "d2 = defaultdict(str) # asignamos un valor 'str' por defecto."
   ]
  },
  {
   "cell_type": "code",
   "execution_count": 18,
   "id": "0501b70f",
   "metadata": {},
   "outputs": [
    {
     "data": {
      "text/plain": [
       "''"
      ]
     },
     "execution_count": 18,
     "metadata": {},
     "output_type": "execute_result"
    }
   ],
   "source": [
    "d2['algo'] # Me estaba equivocando aqui"
   ]
  },
  {
   "cell_type": "code",
   "execution_count": 19,
   "id": "9a53cdda",
   "metadata": {},
   "outputs": [
    {
     "data": {
      "text/plain": [
       "defaultdict(str, {'algo': ''})"
      ]
     },
     "execution_count": 19,
     "metadata": {},
     "output_type": "execute_result"
    }
   ],
   "source": [
    "d2"
   ]
  },
  {
   "cell_type": "code",
   "execution_count": 20,
   "id": "f7001279",
   "metadata": {},
   "outputs": [],
   "source": [
    "d3 = d2.copy() # Hacemos una copia"
   ]
  },
  {
   "cell_type": "code",
   "execution_count": 22,
   "id": "bb6595e6",
   "metadata": {},
   "outputs": [],
   "source": [
    "d3 = defaultdict(object) # object es la calse padre de todos los objetos"
   ]
  },
  {
   "cell_type": "code",
   "execution_count": 23,
   "id": "350741d7",
   "metadata": {},
   "outputs": [
    {
     "data": {
      "text/plain": [
       "<object at 0x7efe8c5e3f70>"
      ]
     },
     "execution_count": 23,
     "metadata": {},
     "output_type": "execute_result"
    }
   ],
   "source": [
    "d3['algo']"
   ]
  },
  {
   "cell_type": "code",
   "execution_count": 25,
   "id": "99e99ca9",
   "metadata": {},
   "outputs": [
    {
     "data": {
      "text/plain": [
       "defaultdict(object, {'algo': <object at 0x7efe8c5e3f70>})"
      ]
     },
     "execution_count": 25,
     "metadata": {},
     "output_type": "execute_result"
    }
   ],
   "source": [
    "d3 # defaultdict(object, {'algo': <object at 0x7efe8c5e3f70>})"
   ]
  },
  {
   "cell_type": "code",
   "execution_count": 26,
   "id": "7239219a",
   "metadata": {},
   "outputs": [],
   "source": [
    "# Creamos un diccionario que por defecto tenga datos 'int'\n",
    "d4 = defaultdict(int)"
   ]
  },
  {
   "cell_type": "code",
   "execution_count": 27,
   "id": "78914a97",
   "metadata": {},
   "outputs": [],
   "source": [
    "d4['algo'] = 10.5 # No afecta, guarda el valor 10.5"
   ]
  },
  {
   "cell_type": "code",
   "execution_count": 28,
   "id": "b42ac18c",
   "metadata": {},
   "outputs": [
    {
     "data": {
      "text/plain": [
       "10.5"
      ]
     },
     "execution_count": 28,
     "metadata": {},
     "output_type": "execute_result"
    }
   ],
   "source": [
    "d4['algo'] # 10.5"
   ]
  },
  {
   "cell_type": "code",
   "execution_count": 29,
   "id": "253eb5e8",
   "metadata": {},
   "outputs": [
    {
     "data": {
      "text/plain": [
       "0.0"
      ]
     },
     "execution_count": 29,
     "metadata": {},
     "output_type": "execute_result"
    }
   ],
   "source": [
    "d['algomas'] # Nos da por defecto el valor 0"
   ]
  },
  {
   "cell_type": "code",
   "execution_count": null,
   "id": "d45f3261",
   "metadata": {},
   "outputs": [],
   "source": [
    "\"\"\"OrderedDict\n",
    "Los diccionarios son colecciones desordenadas, por lo tanto utilizamos OrderedDict\n",
    "\"\"\""
   ]
  },
  {
   "cell_type": "code",
   "execution_count": 31,
   "id": "5e05d6a4",
   "metadata": {},
   "outputs": [],
   "source": [
    "n = {}"
   ]
  },
  {
   "cell_type": "code",
   "execution_count": 35,
   "id": "4d6bb883",
   "metadata": {},
   "outputs": [],
   "source": [
    "n['uno'] = 'one'\n",
    "n['dos'] = 'two'\n",
    "n['tres'] = 'three'"
   ]
  },
  {
   "cell_type": "code",
   "execution_count": 36,
   "id": "c2ce0330",
   "metadata": {},
   "outputs": [
    {
     "data": {
      "text/plain": [
       "{'uno': 'one', 'dos': 'two', 'tres': 'three'}"
      ]
     },
     "execution_count": 36,
     "metadata": {},
     "output_type": "execute_result"
    }
   ],
   "source": [
    "# Mostrar diccionario\n",
    "n"
   ]
  },
  {
   "cell_type": "code",
   "execution_count": 37,
   "id": "72650de7",
   "metadata": {},
   "outputs": [],
   "source": [
    "# Importamos los modulos que vamos a utilizar\n",
    "from collections import OrderedDict"
   ]
  },
  {
   "cell_type": "code",
   "execution_count": null,
   "id": "c0aeb17a",
   "metadata": {},
   "outputs": [],
   "source": [
    "n = {}\n",
    "n['uno'] = 'one'\n",
    "n['dos'] = 'two'\n",
    "n['tres'] = 'three'"
   ]
  },
  {
   "cell_type": "code",
   "execution_count": 39,
   "id": "9526777c",
   "metadata": {},
   "outputs": [
    {
     "data": {
      "text/plain": [
       "{'uno': 'one', 'dos': 'two', 'tres': 'three'}"
      ]
     },
     "execution_count": 39,
     "metadata": {},
     "output_type": "execute_result"
    }
   ],
   "source": [
    "# mostramos el diccionario ya ordenado.\n",
    "n"
   ]
  },
  {
   "cell_type": "code",
   "execution_count": 40,
   "id": "6c6c9e61",
   "metadata": {},
   "outputs": [],
   "source": [
    "# Comparamos los diccionarios\n",
    "\n",
    "n1 = {}\n",
    "n1['uno'] = 'one'\n",
    "n1['dos'] = 'two'\n",
    "n1['tres'] = 'three'\n",
    "\n",
    "\n",
    "n2 = {}\n",
    "n2['dos'] = 'two'\n",
    "n2['uno'] = 'one'\n",
    "n2['tres'] = 'three'"
   ]
  },
  {
   "cell_type": "code",
   "execution_count": 42,
   "id": "a1afe0a8",
   "metadata": {},
   "outputs": [
    {
     "data": {
      "text/plain": [
       "True"
      ]
     },
     "execution_count": 42,
     "metadata": {},
     "output_type": "execute_result"
    }
   ],
   "source": [
    "# Prueba logica para evaluar si los dos diccinarios son iguales. \n",
    "n1 == n2 # Aunque no tengan el mismo orden coincide por contener los elementos."
   ]
  },
  {
   "cell_type": "code",
   "execution_count": 43,
   "id": "4603a927",
   "metadata": {},
   "outputs": [],
   "source": [
    "# Para evaluar si dos diccionarios tienen sus elementoos en orden similar utilizamos OrderedDict\n",
    "n1 = OrderedDict()\n",
    "n1['uno'] = 'one'\n",
    "n1['dos'] = 'two'\n",
    "n1['tres'] = 'three'\n",
    "\n",
    "\n",
    "n2 = OrderedDict()\n",
    "n2['dos'] = 'two'\n",
    "n2['uno'] = 'one'\n",
    "n2['tres'] = 'three'"
   ]
  },
  {
   "cell_type": "code",
   "execution_count": 44,
   "id": "8bf15b76",
   "metadata": {},
   "outputs": [
    {
     "data": {
      "text/plain": [
       "False"
      ]
     },
     "execution_count": 44,
     "metadata": {},
     "output_type": "execute_result"
    }
   ],
   "source": [
    "n1 == n2 # En esta ocasión nos arroja False"
   ]
  },
  {
   "cell_type": "code",
   "execution_count": 45,
   "id": "b46d7a20",
   "metadata": {},
   "outputs": [],
   "source": [
    "# Tuplas, namedtuple // Tupla con nombre.\n",
    "t = (20,40,60)"
   ]
  },
  {
   "cell_type": "code",
   "execution_count": 46,
   "id": "e9bad0db",
   "metadata": {},
   "outputs": [
    {
     "data": {
      "text/plain": [
       "60"
      ]
     },
     "execution_count": 46,
     "metadata": {},
     "output_type": "execute_result"
    }
   ],
   "source": [
    "# Accedemos a los elementos de las tuplas\n",
    "t[0]"
   ]
  },
  {
   "cell_type": "code",
   "execution_count": 47,
   "id": "5d6e8976",
   "metadata": {},
   "outputs": [
    {
     "data": {
      "text/plain": [
       "40"
      ]
     },
     "execution_count": 47,
     "metadata": {},
     "output_type": "execute_result"
    }
   ],
   "source": [
    "t[1]"
   ]
  },
  {
   "cell_type": "code",
   "execution_count": 48,
   "id": "757a9289",
   "metadata": {},
   "outputs": [
    {
     "data": {
      "text/plain": [
       "60"
      ]
     },
     "execution_count": 48,
     "metadata": {},
     "output_type": "execute_result"
    }
   ],
   "source": [
    "t[2]"
   ]
  },
  {
   "cell_type": "code",
   "execution_count": 51,
   "id": "10cec56f",
   "metadata": {},
   "outputs": [],
   "source": [
    "# Import module, namedtuple\n",
    "from collections import namedtuple\n",
    "# namedtuple // Definimos\n",
    "Persona = namedtuple('Persona', 'nombre apellido edad')"
   ]
  },
  {
   "cell_type": "code",
   "execution_count": 53,
   "id": "8e94e75e",
   "metadata": {},
   "outputs": [],
   "source": [
    "p = Persona(nombre='Luis', apellido='Hernandez', edad=27)"
   ]
  },
  {
   "cell_type": "code",
   "execution_count": 54,
   "id": "22e849ef",
   "metadata": {},
   "outputs": [
    {
     "data": {
      "text/plain": [
       "'Luis'"
      ]
     },
     "execution_count": 54,
     "metadata": {},
     "output_type": "execute_result"
    }
   ],
   "source": [
    "p.nombre"
   ]
  },
  {
   "cell_type": "code",
   "execution_count": 55,
   "id": "868bd308",
   "metadata": {},
   "outputs": [
    {
     "data": {
      "text/plain": [
       "Persona(nombre='Luis', apellido='Hernandez', edad=27)"
      ]
     },
     "execution_count": 55,
     "metadata": {},
     "output_type": "execute_result"
    }
   ],
   "source": [
    "p"
   ]
  },
  {
   "cell_type": "code",
   "execution_count": 56,
   "id": "3f6fc485",
   "metadata": {},
   "outputs": [
    {
     "data": {
      "text/plain": [
       "27"
      ]
     },
     "execution_count": 56,
     "metadata": {},
     "output_type": "execute_result"
    }
   ],
   "source": [
    "# podemos acceder tambien por indice\n",
    "p[-1]"
   ]
  }
 ],
 "metadata": {
  "kernelspec": {
   "display_name": "Python 3 (ipykernel)",
   "language": "python",
   "name": "python3"
  },
  "language_info": {
   "codemirror_mode": {
    "name": "ipython",
    "version": 3
   },
   "file_extension": ".py",
   "mimetype": "text/x-python",
   "name": "python",
   "nbconvert_exporter": "python",
   "pygments_lexer": "ipython3",
   "version": "3.10.6"
  }
 },
 "nbformat": 4,
 "nbformat_minor": 5
}
