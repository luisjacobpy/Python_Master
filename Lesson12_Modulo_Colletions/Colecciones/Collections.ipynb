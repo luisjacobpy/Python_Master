{
 "cells": [
  {
   "cell_type": "code",
   "execution_count": 7,
   "id": "906b9888",
   "metadata": {},
   "outputs": [],
   "source": [
    "from collections import Counter"
   ]
  },
  {
   "cell_type": "code",
   "execution_count": 8,
   "id": "a8e6797b",
   "metadata": {},
   "outputs": [],
   "source": [
    "l = [1,2,3,4,1,2,3,1,2,1]"
   ]
  },
  {
   "cell_type": "code",
   "execution_count": 9,
   "id": "5e6aac5f",
   "metadata": {},
   "outputs": [
    {
     "data": {
      "text/plain": [
       "Counter({1: 4, 2: 3, 3: 2, 4: 1})"
      ]
     },
     "execution_count": 9,
     "metadata": {},
     "output_type": "execute_result"
    }
   ],
   "source": [
    "Counter(l)"
   ]
  },
  {
   "cell_type": "code",
   "execution_count": 10,
   "id": "37f22488",
   "metadata": {},
   "outputs": [],
   "source": [
    "p = \"palabra\""
   ]
  },
  {
   "cell_type": "code",
   "execution_count": 11,
   "id": "e30551b2",
   "metadata": {},
   "outputs": [
    {
     "data": {
      "text/plain": [
       "Counter({'a': 3, 'p': 1, 'l': 1, 'b': 1, 'r': 1})"
      ]
     },
     "execution_count": 11,
     "metadata": {},
     "output_type": "execute_result"
    }
   ],
   "source": [
    "Counter(p)"
   ]
  },
  {
   "cell_type": "code",
   "execution_count": 17,
   "id": "c3bbbbdd",
   "metadata": {},
   "outputs": [],
   "source": [
    "animales = \"gato perro canario perro canario perro\""
   ]
  },
  {
   "cell_type": "code",
   "execution_count": 19,
   "id": "602abe5c",
   "metadata": {},
   "outputs": [
    {
     "data": {
      "text/plain": [
       "Counter({'r': 8,\n",
       "         'o': 6,\n",
       "         'a': 5,\n",
       "         ' ': 5,\n",
       "         'p': 3,\n",
       "         'e': 3,\n",
       "         'c': 2,\n",
       "         'n': 2,\n",
       "         'i': 2,\n",
       "         'g': 1,\n",
       "         't': 1})"
      ]
     },
     "execution_count": 19,
     "metadata": {},
     "output_type": "execute_result"
    }
   ],
   "source": [
    "Counter(animales)"
   ]
  },
  {
   "cell_type": "code",
   "execution_count": 21,
   "id": "0ba6bb55",
   "metadata": {},
   "outputs": [
    {
     "data": {
      "text/plain": [
       "['gato', 'perro', 'canario', 'perro', 'canario', 'perro']"
      ]
     },
     "execution_count": 21,
     "metadata": {},
     "output_type": "execute_result"
    }
   ],
   "source": [
    "animales.split() # Para separar por comas a los animales"
   ]
  },
  {
   "cell_type": "code",
   "execution_count": 22,
   "id": "36713a35",
   "metadata": {},
   "outputs": [
    {
     "data": {
      "text/plain": [
       "Counter({'perro': 3, 'canario': 2, 'gato': 1})"
      ]
     },
     "execution_count": 22,
     "metadata": {},
     "output_type": "execute_result"
    }
   ],
   "source": [
    "Counter(animales.split())"
   ]
  },
  {
   "cell_type": "code",
   "execution_count": 28,
   "id": "e91f70d9",
   "metadata": {},
   "outputs": [],
   "source": [
    "c = Counter(animales.split())"
   ]
  },
  {
   "cell_type": "code",
   "execution_count": 30,
   "id": "6a792542",
   "metadata": {},
   "outputs": [
    {
     "data": {
      "text/plain": [
       "[('perro', 3)]"
      ]
     },
     "execution_count": 30,
     "metadata": {},
     "output_type": "execute_result"
    }
   ],
   "source": [
    "c.most_common(1) # c.most_common // El mas comun // Metodo\n",
    "\n",
    "#Se le pasa como parametro [1] para conocer un elemento, el mas comun.\n"
   ]
  },
  {
   "cell_type": "code",
   "execution_count": 31,
   "id": "1accb595",
   "metadata": {},
   "outputs": [
    {
     "data": {
      "text/plain": [
       "[('perro', 3), ('canario', 2)]"
      ]
     },
     "execution_count": 31,
     "metadata": {},
     "output_type": "execute_result"
    }
   ],
   "source": [
    "c.most_common(2)"
   ]
  },
  {
   "cell_type": "code",
   "execution_count": 32,
   "id": "821352c6",
   "metadata": {},
   "outputs": [
    {
     "data": {
      "text/plain": [
       "[('perro', 3), ('canario', 2), ('gato', 1)]"
      ]
     },
     "execution_count": 32,
     "metadata": {},
     "output_type": "execute_result"
    }
   ],
   "source": [
    "c.most_common() # Si no le aregamos ningun parametro, nos devuelve una lista orenada con la frecuencia."
   ]
  },
  {
   "cell_type": "code",
   "execution_count": null,
   "id": "7c3e4b23",
   "metadata": {},
   "outputs": [],
   "source": [
    "# Soun una subclase del diccionario"
   ]
  },
  {
   "cell_type": "code",
   "execution_count": 36,
   "id": "bad0c18d",
   "metadata": {},
   "outputs": [],
   "source": [
    "lista2 = [10,20,30,40,10,20,30,10,20]"
   ]
  },
  {
   "cell_type": "code",
   "execution_count": 37,
   "id": "34a702f8",
   "metadata": {},
   "outputs": [],
   "source": [
    "c2 = Counter(lista2)"
   ]
  },
  {
   "cell_type": "code",
   "execution_count": 38,
   "id": "64042338",
   "metadata": {},
   "outputs": [
    {
     "data": {
      "text/plain": [
       "dict_items([(10, 3), (20, 3), (30, 2), (40, 1)])"
      ]
     },
     "execution_count": 38,
     "metadata": {},
     "output_type": "execute_result"
    }
   ],
   "source": [
    "c2.items()"
   ]
  },
  {
   "cell_type": "code",
   "execution_count": 39,
   "id": "a2a0c2da",
   "metadata": {},
   "outputs": [
    {
     "data": {
      "text/plain": [
       "dict_keys([10, 20, 30, 40])"
      ]
     },
     "execution_count": 39,
     "metadata": {},
     "output_type": "execute_result"
    }
   ],
   "source": [
    "c2.keys() # Nos devuelve las keys"
   ]
  },
  {
   "cell_type": "code",
   "execution_count": 41,
   "id": "77f6740c",
   "metadata": {},
   "outputs": [
    {
     "data": {
      "text/plain": [
       "dict_values([3, 3, 2, 1])"
      ]
     },
     "execution_count": 41,
     "metadata": {},
     "output_type": "execute_result"
    }
   ],
   "source": [
    "c2.values()"
   ]
  },
  {
   "cell_type": "code",
   "execution_count": 42,
   "id": "a5c50b84",
   "metadata": {},
   "outputs": [
    {
     "data": {
      "text/plain": [
       "9"
      ]
     },
     "execution_count": 42,
     "metadata": {},
     "output_type": "execute_result"
    }
   ],
   "source": [
    "sum(c2.values())"
   ]
  },
  {
   "cell_type": "code",
   "execution_count": 45,
   "id": "8c69155d",
   "metadata": {},
   "outputs": [
    {
     "data": {
      "text/plain": [
       "[10, 20, 30, 40]"
      ]
     },
     "execution_count": 45,
     "metadata": {},
     "output_type": "execute_result"
    }
   ],
   "source": [
    "list(c2)"
   ]
  },
  {
   "cell_type": "code",
   "execution_count": 48,
   "id": "acf5e9e0",
   "metadata": {},
   "outputs": [
    {
     "data": {
      "text/plain": [
       "{10: 3, 20: 3, 30: 2, 40: 1}"
      ]
     },
     "execution_count": 48,
     "metadata": {},
     "output_type": "execute_result"
    }
   ],
   "source": [
    "dict(c2)"
   ]
  },
  {
   "cell_type": "code",
   "execution_count": 49,
   "id": "184b8085",
   "metadata": {},
   "outputs": [],
   "source": [
    "d = dict(c2)"
   ]
  }
 ],
 "metadata": {
  "kernelspec": {
   "display_name": "Python 3 (ipykernel)",
   "language": "python",
   "name": "python3"
  },
  "language_info": {
   "codemirror_mode": {
    "name": "ipython",
    "version": 3
   },
   "file_extension": ".py",
   "mimetype": "text/x-python",
   "name": "python",
   "nbconvert_exporter": "python",
   "pygments_lexer": "ipython3",
   "version": "3.10.6"
  }
 },
 "nbformat": 4,
 "nbformat_minor": 5
}
