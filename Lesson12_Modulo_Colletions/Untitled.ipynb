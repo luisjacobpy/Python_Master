{
 "cells": [
  {
   "cell_type": "code",
   "execution_count": null,
   "id": "00874049",
   "metadata": {},
   "outputs": [],
   "source": [
    "from collections import *\n",
    "\n",
    "list = [1,2,3,4,1,2,3,1,2,1]\n",
    "\n",
    "Counter(list)"
   ]
  },
  {
   "cell_type": "code",
   "execution_count": null,
   "id": "7ac5a5ea",
   "metadata": {},
   "outputs": [],
   "source": []
  }
 ],
 "metadata": {
  "kernelspec": {
   "display_name": "Python 3 (ipykernel)",
   "language": "python",
   "name": "python3"
  }
 },
 "nbformat": 4,
 "nbformat_minor": 5
}
