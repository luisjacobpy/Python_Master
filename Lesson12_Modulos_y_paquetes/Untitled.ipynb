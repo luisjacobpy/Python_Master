{
 "cells": [
  {
   "cell_type": "code",
   "execution_count": 1,
   "id": "9dae749d",
   "metadata": {},
   "outputs": [
    {
     "name": "stdout",
     "output_type": "stream",
     "text": [
      "Cargando el paquete mensajes...\n",
      "Cargando el subpaquete mensajes.hola...\n"
     ]
    }
   ],
   "source": [
    "from mensajes.hola.saludos import *\n"
   ]
  },
  {
   "cell_type": "code",
   "execution_count": 2,
   "id": "067a918a",
   "metadata": {},
   "outputs": [
    {
     "name": "stdout",
     "output_type": "stream",
     "text": [
      "Hola te saludo desde saludos.saludar()\n"
     ]
    }
   ],
   "source": [
    "saludar()"
   ]
  },
  {
   "cell_type": "code",
   "execution_count": 3,
   "id": "9b9291ac",
   "metadata": {},
   "outputs": [
    {
     "name": "stdout",
     "output_type": "stream",
     "text": [
      "Hola, te saludo desde Saludos.__init__ \n"
     ]
    },
    {
     "data": {
      "text/plain": [
       "<mensajes.hola.saludos.Saludo at 0x7fef702b0760>"
      ]
     },
     "execution_count": 3,
     "metadata": {},
     "output_type": "execute_result"
    }
   ],
   "source": [
    "Saludo()"
   ]
  },
  {
   "cell_type": "code",
   "execution_count": 4,
   "id": "a39e03ff",
   "metadata": {},
   "outputs": [
    {
     "name": "stdout",
     "output_type": "stream",
     "text": [
      "Cargando el subpaquete mensaje.adios\n"
     ]
    }
   ],
   "source": [
    "from mensajes.adios.despedidas import *"
   ]
  },
  {
   "cell_type": "code",
   "execution_count": 5,
   "id": "cf55cb85",
   "metadata": {},
   "outputs": [
    {
     "name": "stdout",
     "output_type": "stream",
     "text": [
      "Adios, me despido desde despedidas.despedir()\n"
     ]
    }
   ],
   "source": [
    "despedir()"
   ]
  },
  {
   "cell_type": "code",
   "execution_count": 6,
   "id": "55e19f01",
   "metadata": {},
   "outputs": [
    {
     "name": "stdout",
     "output_type": "stream",
     "text": [
      "Adiós, me despido despido desde Despedida.__init__()\n"
     ]
    },
    {
     "data": {
      "text/plain": [
       "<mensajes.adios.despedidas.Despedida at 0x7fef702b2500>"
      ]
     },
     "execution_count": 6,
     "metadata": {},
     "output_type": "execute_result"
    }
   ],
   "source": [
    "Despedida()"
   ]
  },
  {
   "cell_type": "code",
   "execution_count": 7,
   "id": "28054ffa",
   "metadata": {},
   "outputs": [
    {
     "name": "stdout",
     "output_type": "stream",
     "text": [
      "Package                  Version\r\n",
      "------------------------ ---------------\r\n",
      "anyio                    3.6.2\r\n",
      "argon2-cffi              21.3.0\r\n",
      "argon2-cffi-bindings     21.2.0\r\n",
      "arrow                    1.2.3\r\n",
      "asttokens                2.2.1\r\n",
      "async-generator          1.10\r\n",
      "attrs                    23.1.0\r\n",
      "backcall                 0.2.0\r\n",
      "beautifulsoup4           4.12.2\r\n",
      "bleach                   6.0.0\r\n",
      "blinker                  1.4\r\n",
      "certifi                  2022.12.7\r\n",
      "cffi                     1.15.1\r\n",
      "comm                     0.1.3\r\n",
      "command-not-found        0.3\r\n",
      "cryptography             3.4.8\r\n",
      "dbus-python              1.2.18\r\n",
      "debugpy                  1.6.7\r\n",
      "decorator                5.1.1\r\n",
      "defusedxml               0.7.1\r\n",
      "distro                   1.7.0\r\n",
      "distro-info              1.1build1\r\n",
      "exceptiongroup           1.1.1\r\n",
      "executing                1.2.0\r\n",
      "fastjsonschema           2.17.1\r\n",
      "fqdn                     1.5.1\r\n",
      "h11                      0.14.0\r\n",
      "httplib2                 0.20.2\r\n",
      "idna                     3.4\r\n",
      "importlib-metadata       4.6.4\r\n",
      "ipykernel                6.23.1\r\n",
      "ipython                  8.13.2\r\n",
      "ipython_genutils         0.2.0\r\n",
      "ipywidgets               8.0.6\r\n",
      "isoduration              20.11.0\r\n",
      "jedi                     0.18.2\r\n",
      "jeepney                  0.7.1\r\n",
      "Jinja2                   3.1.2\r\n",
      "jsonpointer              2.3\r\n",
      "jsonschema               4.17.3\r\n",
      "jupyter                  1.0.0\r\n",
      "jupyter_client           8.2.0\r\n",
      "jupyter-console          6.6.3\r\n",
      "jupyter_core             5.3.0\r\n",
      "jupyter-events           0.6.3\r\n",
      "jupyter_server           2.5.0\r\n",
      "jupyter_server_terminals 0.4.4\r\n",
      "jupyterlab-pygments      0.2.2\r\n",
      "jupyterlab-widgets       3.0.7\r\n",
      "keyring                  23.5.0\r\n",
      "launchpadlib             1.10.16\r\n",
      "lazr.restfulclient       0.14.4\r\n",
      "lazr.uri                 1.0.6\r\n",
      "MarkupSafe               2.1.2\r\n",
      "matplotlib-inline        0.1.6\r\n",
      "Mensajes                 1.0\r\n",
      "mistune                  2.0.5\r\n",
      "more-itertools           8.10.0\r\n",
      "nbclassic                1.0.0\r\n",
      "nbclient                 0.8.0\r\n",
      "nbconvert                7.4.0\r\n",
      "nbformat                 5.8.0\r\n",
      "nest-asyncio             1.5.6\r\n",
      "netifaces                0.11.0\r\n",
      "notebook                 6.5.4\r\n",
      "notebook_shim            0.2.3\r\n",
      "oauthlib                 3.2.0\r\n",
      "outcome                  1.2.0\r\n",
      "packaging                23.1\r\n",
      "pandocfilters            1.5.0\r\n",
      "parso                    0.8.3\r\n",
      "pexpect                  4.8.0\r\n",
      "pickleshare              0.7.5\r\n",
      "pip                      22.0.2\r\n",
      "platformdirs             3.5.1\r\n",
      "prometheus-client        0.16.0\r\n",
      "prompt-toolkit           3.0.38\r\n",
      "psutil                   5.9.5\r\n",
      "ptyprocess               0.7.0\r\n",
      "pure-eval                0.2.2\r\n",
      "pycparser                2.21\r\n",
      "Pygments                 2.15.1\r\n",
      "PyGObject                3.42.1\r\n",
      "PyJWT                    2.3.0\r\n",
      "pyparsing                2.4.7\r\n",
      "pyrsistent               0.19.3\r\n",
      "PySocks                  1.7.1\r\n",
      "python-apt               2.3.0+ubuntu2.1\r\n",
      "python-dateutil          2.8.2\r\n",
      "python-json-logger       2.0.7\r\n",
      "pyunitreport             0.1.4\r\n",
      "PyYAML                   5.4.1\r\n",
      "pyzmq                    25.0.2\r\n",
      "qtconsole                5.4.3\r\n",
      "QtPy                     2.3.1\r\n",
      "rfc3339-validator        0.1.4\r\n",
      "rfc3986-validator        0.1.1\r\n",
      "SecretStorage            3.3.1\r\n",
      "selenium                 4.9.0\r\n",
      "Send2Trash               1.8.2\r\n",
      "setuptools               59.6.0\r\n",
      "six                      1.16.0\r\n",
      "sniffio                  1.3.0\r\n",
      "sortedcontainers         2.4.0\r\n",
      "soupsieve                2.4.1\r\n",
      "stack-data               0.6.2\r\n",
      "systemd-python           234\r\n",
      "terminado                0.17.1\r\n",
      "tinycss2                 1.2.1\r\n",
      "tornado                  6.3.2\r\n",
      "traitlets                5.9.0\r\n",
      "trio                     0.22.0\r\n",
      "trio-websocket           0.10.2\r\n",
      "ubuntu-advantage-tools   27.12\r\n",
      "ufw                      0.36.1\r\n",
      "unattended-upgrades      0.1\r\n",
      "uri-template             1.2.0\r\n",
      "urllib3                  1.26.15\r\n",
      "wadllib                  1.3.6\r\n",
      "wcwidth                  0.2.6\r\n",
      "webcolors                1.13\r\n",
      "webencodings             0.5.1\r\n",
      "websocket-client         1.5.2\r\n",
      "wheel                    0.37.1\r\n",
      "widgetsnbextension       4.0.7\r\n",
      "wsproto                  1.2.0\r\n",
      "zipp                     1.0.0\r\n"
     ]
    }
   ],
   "source": [
    "!pip list"
   ]
  }
 ],
 "metadata": {
  "kernelspec": {
   "display_name": "Python 3 (ipykernel)",
   "language": "python",
   "name": "python3"
  },
  "language_info": {
   "codemirror_mode": {
    "name": "ipython",
    "version": 3
   },
   "file_extension": ".py",
   "mimetype": "text/x-python",
   "name": "python",
   "nbconvert_exporter": "python",
   "pygments_lexer": "ipython3",
   "version": "3.10.6"
  }
 },
 "nbformat": 4,
 "nbformat_minor": 5
}
